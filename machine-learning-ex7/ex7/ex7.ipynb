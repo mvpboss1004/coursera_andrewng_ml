{
 "cells": [
  {
   "cell_type": "code",
   "execution_count": 60,
   "metadata": {},
   "outputs": [],
   "source": [
    "%matplotlib inline\n",
    "import pandas as pd\n",
    "import numpy as np\n",
    "import matplotlib.pyplot as plt\n",
    "from scipy.io import loadmat\n",
    "from random import sample"
   ]
  },
  {
   "cell_type": "markdown",
   "metadata": {},
   "source": [
    "# 编程练习7：K均值聚类与主成分分析\n",
    "## 1 K均值聚类  \n",
    "这一部分我们会实现一个K均值聚类算法，并用于图像压缩。\n",
    "### 1.2 K均值用于样例数据\n",
    "显然，scikit-learn是带有K均值算法的。但为了可视化K均值算法过程中中心点的移动，我们还是自己实现一下。"
   ]
  },
  {
   "cell_type": "code",
   "execution_count": 61,
   "metadata": {},
   "outputs": [],
   "source": [
    "def kMeansInitCentroids(X, K):\n",
    "    return X[sample(range(len(X)), K)]\n",
    "                    \n",
    "def computeCentroids(X, idx, K):\n",
    "    centroids = [np.mean(X[(idx==k).flatten()], axis=0) for k in range(K)]\n",
    "    return np.vstack(centroids)\n",
    "\n",
    "def findClosestCentroids(X, centroids):\n",
    "    dist = np.zeros((len(X), len(centroids)))\n",
    "    for i in range(len(X)):\n",
    "        for j in range(len(centroids)):\n",
    "            dist[i,j] = np.linalg.norm(X[i] - centroids[j])\n",
    "    centroids = np.argmin(dist, axis=1)\n",
    "    return centroids\n",
    "def runKmeans(X, initial_centroids, max_iters, plot_progress=False):\n",
    "    progress = []\n",
    "    K = len(initial_centroids)\n",
    "    centroids = initial_centroids\n",
    "    for i in range(max_iters):\n",
    "        idx = findClosestCentroids(X, centroids)\n",
    "        if plot_progress:\n",
    "            progress.append(centroids.copy())\n",
    "        centroids = computeCentroids(X, idx, K)\n",
    "    if plot_progress:\n",
    "        return centroids, idx, progress\n",
    "    else:\n",
    "        return centroids, idx"
   ]
  },
  {
   "cell_type": "code",
   "execution_count": 62,
   "metadata": {},
   "outputs": [],
   "source": [
    "raw_data = loadmat('ex7data2.mat')\n",
    "X = np.mat(raw_data['X'])"
   ]
  },
  {
   "cell_type": "markdown",
   "metadata": {},
   "source": [
    "首先是实现K均值的计算中心点和查找最近中心点的算法，并测试一下："
   ]
  },
  {
   "cell_type": "code",
   "execution_count": 63,
   "metadata": {},
   "outputs": [
    {
     "name": "stdout",
     "output_type": "stream",
     "text": [
      "Closest centroids for the first 3 examples: [0 2 1]\n",
      "(the closest centroids should be 0, 2, 2 respectively)\n",
      "Centroids computed after initial finding of closest centroids:\n",
      "[[2.42830111 3.15792418]\n",
      " [5.81350331 2.63365645]\n",
      " [7.11938687 3.6166844 ]]\n",
      "(the centroids should be)\n",
      "[ 2.428301 3.157924 ]\n",
      "[ 5.813503 2.633656 ]\n",
      "[ 7.119387 3.616684 ]\n"
     ]
    }
   ],
   "source": [
    "K = 3\n",
    "initial_centroids = np.mat([[3,3], [6,2], [8,5]])\n",
    "idx = findClosestCentroids(X, initial_centroids)\n",
    "print('Closest centroids for the first 3 examples: %s'%idx[0:3])\n",
    "print('(the closest centroids should be 0, 2, 2 respectively)')\n",
    "centroids = computeCentroids(X, idx, K)\n",
    "print('Centroids computed after initial finding of closest centroids:\\n%s'%centroids)\n",
    "print('(the centroids should be)')\n",
    "print('[ 2.428301 3.157924 ]')\n",
    "print('[ 5.813503 2.633656 ]')\n",
    "print('[ 7.119387 3.616684 ]')"
   ]
  },
  {
   "cell_type": "markdown",
   "metadata": {},
   "source": [
    "然后是跑一遍K均值算法："
   ]
  },
  {
   "cell_type": "code",
   "execution_count": 64,
   "metadata": {},
   "outputs": [
    {
     "data": {
      "image/png": "[encoded data removed]",
      "text/plain": [
       "<matplotlib.figure.Figure at 0x24ee407bef0>"
      ]
     },
     "metadata": {},
     "output_type": "display_data"
    }
   ],
   "source": [
    "centroids, idx, progress = runKmeans(X, initial_centroids, 10, True)\n",
    "fig, ax = plt.subplots()\n",
    "for k in range(K):\n",
    "    Xk = X[idx==k]\n",
    "    ax.scatter(Xk[:,0].A1, Xk[:,1].A1)\n",
    "    c0 = [c[k][0,0] for c in progress]\n",
    "    c1 = [c[k][0,1] for c in progress]\n",
    "    plt.plot(c0, c1, marker='+', c='k')\n",
    "plt.show()"
   ]
  }
 ],
 "metadata": {
  "hide_input": false,
  "kernelspec": {
   "display_name": "Python 3",
   "language": "python",
   "name": "python3"
  },
  "language_info": {
   "codemirror_mode": {
    "name": "ipython",
    "version": 3
   },
   "file_extension": ".py",
   "mimetype": "text/x-python",
   "name": "python",
   "nbconvert_exporter": "python",
   "pygments_lexer": "ipython3",
   "version": "3.6.3"
  }
 },
 "nbformat": 4,
 "nbformat_minor": 2
}

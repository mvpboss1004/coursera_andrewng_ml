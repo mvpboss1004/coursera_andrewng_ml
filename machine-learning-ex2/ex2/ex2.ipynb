{
 "cells": [
  {
   "cell_type": "markdown",
   "metadata": {},
   "source": [
    "# 逻辑回归数据"
   ]
  },
  {
   "cell_type": "code",
   "execution_count": 4,
   "metadata": {},
   "outputs": [
    {
     "data": {
      "image/png": "[encoded data removed]",
      "text/plain": [
       "<matplotlib.figure.Figure at 0x29b4e2d8dd8>"
      ]
     },
     "metadata": {},
     "output_type": "display_data"
    }
   ],
   "source": [
    "%matplotlib inline\n",
    "import numpy as np\n",
    "import matplotlib.pyplot as plt\n",
    "from scipy.special import expit\n",
    "raw_data = np.loadtxt('ex2data1.txt', delimiter=',')\n",
    "m = len(raw_data)\n",
    "pos = raw_data[np.where(raw_data[:,-1]==1)]\n",
    "neg = raw_data[np.where(raw_data[:,-1]==0)]\n",
    "fig,ax = plt.subplots()\n",
    "ax.scatter(pos[:,0], pos[:,1], c='b', marker='o')\n",
    "ax.scatter(neg[:,0], neg[:,1], c='r', marker='+')\n",
    "X = np.mat([np.ones(m), raw_data[:,0], raw_data[:,1]]).reshape(m,3)\n",
    "y = np.mat(raw_data[:,2]).reshape(m,1)"
   ]
  },
  {
   "cell_type": "markdown",
   "metadata": {},
   "source": [
    "# 代价函数及梯度\n",
    "sigmoid函数我们直接使用了内置的。这里只实现代价函数。同样，关键是用矩阵形式表示：\n",
    "$$J(\\theta)=\\frac{1}{m}[-log(h_{\\theta}(X))^Ty-log(1-h_{\\theta}(X))^T(1-y)]$$\n",
    "$$\\frac{{\\partial}J(\\theta)}{\\partial\\theta}=\\frac{1}{m}X^T(h_{\\theta}(X)-y)$$"
   ]
  },
  {
   "cell_type": "code",
   "execution_count": 7,
   "metadata": {},
   "outputs": [
    {
     "data": {
      "text/plain": [
       "0.69314718055994518"
      ]
     },
     "execution_count": 7,
     "metadata": {},
     "output_type": "execute_result"
    }
   ],
   "source": [
    "def costFunction(theta, X, y):\n",
    "    m = len(y)\n",
    "    h_theta = expit(X*theta)\n",
    "    J = (-np.log(h_theta.T)*y - np.log(1-h_theta.T)*(1-y)) / m\n",
    "    grad = X.T * (h_theta-y) / m\n",
    "    return J[0,0], grad\n",
    "theta = np.zeros((3,1),)\n",
    "J, grad = costFunction(theta, X, y)\n",
    "J"
   ]
  },
  {
   "cell_type": "markdown",
   "metadata": {},
   "source": [
    "# 正则化逻辑回归数据"
   ]
  },
  {
   "cell_type": "code",
   "execution_count": 8,
   "metadata": {},
   "outputs": [
    {
     "data": {
      "image/png": "[encoded data removed]",
      "text/plain": [
       "<matplotlib.figure.Figure at 0x29b60a2f860>"
      ]
     },
     "metadata": {},
     "output_type": "display_data"
    }
   ],
   "source": [
    "raw_data = np.loadtxt('ex2data2.txt', delimiter=',')\n",
    "m = len(raw_data)\n",
    "pos = raw_data[np.where(raw_data[:,-1]==1)]\n",
    "neg = raw_data[np.where(raw_data[:,-1]==0)]\n",
    "fig,ax = plt.subplots()\n",
    "ax.scatter(pos[:,0], pos[:,1], c='b', marker='o')\n",
    "ax.scatter(neg[:,0], neg[:,1], c='r', marker='+')\n",
    "X = np.mat([np.ones(m), raw_data[:,0], raw_data[:,1]]).reshape(m,3)\n",
    "y = np.mat(raw_data[:,2]).reshape(m,1)"
   ]
  },
  {
   "cell_type": "markdown",
   "metadata": {},
   "source": [
    "# 正则化代价函数及梯度\n",
    "假设\n",
    "$$\\theta^*=[0,\\theta_1,...\\theta_n]^T$$\n",
    "则矩阵形式表示：\n",
    "$$J(\\theta)=\\frac{1}{m}[-log(h_{\\theta}(X))^Ty-log(1-h_{\\theta}(X))^T(1-y)]+\\frac{\\lambda}{2m}\\theta^{*T}\\theta^*$$\n",
    "$$\\frac{{\\partial}J(\\theta)}{\\partial\\theta}=\\frac{1}{m}X^T(h_{\\theta}(X)-y)+\\frac{\\lambda}{m}\\theta^*$$"
   ]
  },
  {
   "cell_type": "code",
   "execution_count": 11,
   "metadata": {},
   "outputs": [
    {
     "data": {
      "text/plain": [
       "0.6931471805599454"
      ]
     },
     "execution_count": 11,
     "metadata": {},
     "output_type": "execute_result"
    }
   ],
   "source": [
    "def costFunctionReg(theta, X, y, lambda_):\n",
    "    m = len(y)\n",
    "    theta0 = theta.copy()\n",
    "    theta0[0,0] = 0\n",
    "    h_theta = expit(X*theta)\n",
    "    J = (-np.log(h_theta.T)*y - np.log(1-h_theta.T)*(1-y)) / m + lambda_/(2*m)*theta0.T*theta0\n",
    "    grad = X.T * (h_theta-y) / m + lambda_/m*theta0\n",
    "    return J[0,0], grad\n",
    "theta = np.zeros((3,1),)\n",
    "lambda_ = 1 \n",
    "J, grad = costFunctionReg(theta, X, y, lambda_)\n",
    "J"
   ]
  }
 ],
 "metadata": {
  "kernelspec": {
   "display_name": "Python 3",
   "language": "python",
   "name": "python3"
  },
  "language_info": {
   "codemirror_mode": {
    "name": "ipython",
    "version": 3
   },
   "file_extension": ".py",
   "mimetype": "text/x-python",
   "name": "python",
   "nbconvert_exporter": "python",
   "pygments_lexer": "ipython3",
   "version": "3.6.3"
  }
 },
 "nbformat": 4,
 "nbformat_minor": 2
}
